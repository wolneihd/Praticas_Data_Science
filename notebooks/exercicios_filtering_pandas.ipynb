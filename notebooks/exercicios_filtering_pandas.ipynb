{
 "cells": [
  {
   "cell_type": "markdown",
   "metadata": {},
   "source": [
    "### Pergunta ao chatGPT:\n",
    "\n",
    "Gere um csv de 30 linhas, e gerar 10 desafios, por nivel de dificuldade, nos tema de filtrar dados, para uso adcional de: isnull, notnull, isin, dropna, between, squeeze, loc/iloc, Drop Rows with Missing Values, fillna, astype, rank."
   ]
  }
 ],
 "metadata": {
  "language_info": {
   "name": "python"
  }
 },
 "nbformat": 4,
 "nbformat_minor": 2
}
